{
    "cells": [
        {
            "cell_type": "code",
            "execution_count": null,
            "metadata": {
                "id": "5dd4d593",
                "language": "python"
            },
            "outputs": [],
            "source": [
                "# Requirements:\n",
                "# pip install requests\n",
                "# pip install torch\n",
                "# pip install sacrebleu\n",
                "# pip install accelerate\n",
                "!pip install datasets\n",
                "# pip install transformers"
            ]
        },
        {
            "cell_type": "code",
            "execution_count": null,
            "metadata": {
                "id": "7a3f6413",
                "language": "python"
            },
            "outputs": [],
            "source": [
                "\"\"\"\n",
                "finetune Phi-4-multimodal-instruct on a speech task\n",
                "\n",
                "scipy==1.15.1\n",
                "peft==0.13.2\n",
                "backoff==2.2.1\n",
                "transformers==4.46.1\n",
                "accelerate==1.3.0\n",
                "\"\"\"\n",
                "\n",
                "import argparse\n",
                "import json\n",
                "import os\n",
                "from pathlib import Path\n",
                "\n",
                "import torch\n",
                "import sacrebleu\n",
                "from accelerate import Accelerator\n",
                "from accelerate.utils import gather_object\n",
                "from datasets import load_dataset\n",
                "from torch.utils.data import Dataset\n",
                "from tqdm import tqdm\n",
                "from transformers import (\n",
                "    AutoModelForCausalLM,\n",
                "    AutoProcessor,\n",
                "    BatchFeature,\n",
                "    Trainer,\n",
                "    TrainingArguments,\n",
                "    StoppingCriteria,\n",
                "    StoppingCriteriaList,\n",
                ")\n",
                "\n",
                "# Main logic for fine-tuning goes here"
            ]
        },
        {
            "cell_type": "code",
            "execution_count": null,
            "metadata": {
                "id": "17ca8872",
                "language": "python"
            },
            "outputs": [],
            "source": [
                "# Additional code and functions for the fine-tuning process"
            ]
        }
    ],
    "metadata": {
        "kernelspec": {
            "display_name": "Python 3",
            "language": "python",
            "name": "python3"
        },
        "language_info": {
            "codemirror_mode": {
                "name": "ipython",
                "version": 3
            },
            "file_extension": ".py",
            "mimetype": "text/x-python",
            "name": "python",
            "nbconvert_exporter": "python",
            "pygments_lexer": "ipython3",
            "version": "3.8.5"
        }
    },
    "nbformat": 4,
    "nbformat_minor": 4
}
