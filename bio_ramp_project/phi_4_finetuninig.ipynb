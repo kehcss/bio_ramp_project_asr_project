{
    "cells": [
        {
            "cell_type": "code",
            "metadata": {
                "id": "5dd4d593",
                "language": "python"
            },
            "source": [
                "# Requirements:",
                "# pip install requests",
                "# pip install torch",
                "# pip install sacrebleu",
                "# pip install accelerate",
                "!pip install datasets",
                "# pip install transformers"
            ]
        },
        {
            "cell_type": "code",
            "metadata": {
                "id": "7a3f6413",
                "language": "python"
            },
            "source": [
                "\"\"\"",
                "finetune Phi-4-multimodal-instruct on a speech task",
                "",
                "scipy==1.15.1",
                "peft==0.13.2",
                "backoff==2.2.1",
                "transformers==4.46.1",
                "accelerate==1.3.0",
                "\"\"\"",
                "",
                "import argparse",
                "import json",
                "import os",
                "from pathlib import Path",
                "",
                "import torch",
                "import sacrebleu",
                "from accelerate import Accelerator",
                "from accelerate.utils import gather_object",
                "from datasets import load_dataset",
                "from torch.utils.data import Dataset",
                "from tqdm import tqdm",
                "from transformers import (",
                "    AutoModelForCausalLM,",
                "    AutoProcessor,",
                "    BatchFeature,",
                "    Trainer,",
                "    TrainingArguments,",
                "    StoppingCriteria,",
                "    StoppingCriteriaList,",
                ")",
                "",
                "# Main logic for fine-tuning goes here"
            ]
        },
        {
            "cell_type": "code",
            "metadata": {
                "id": "17ca8872",
                "language": "python"
            },
            "source": [
                "# Additional code and functions for the fine-tuning process"
            ]
        }
    ],
    "metadata": {
        "kernelspec": {
            "display_name": "Python 3",
            "language": "python",
            "name": "python3"
        },
        "language_info": {
            "codemirror_mode": {
                "name": "ipython",
                "version": 3
            },
            "file_extension": ".py",
            "mimetype": "text/x-python",
            "name": "python",
            "nbconvert_exporter": "python",
            "pygments_lexer": "ipython3",
            "version": "3.8.5"
        }
    },
    "nbformat": 4,
    "nbformat_minor": 4
}